{
 "cells": [
  {
   "cell_type": "markdown",
   "metadata": {},
   "source": [
    "## Download logs"
   ]
  },
  {
   "cell_type": "code",
   "execution_count": 1,
   "metadata": {},
   "outputs": [
    {
     "data": {
      "text/plain": [
       "'/home/arapat/Dropbox/workspace/research/rust-boost/notebooks'"
      ]
     },
     "execution_count": 1,
     "metadata": {},
     "output_type": "execute_result"
    }
   ],
   "source": [
    "pwd"
   ]
  },
  {
   "cell_type": "code",
   "execution_count": 2,
   "metadata": {
    "scrolled": true
   },
   "outputs": [
    {
     "name": "stdout",
     "output_type": "stream",
     "text": [
      "~/workspace/research/rust-boost/logs-analysis/local ~/workspace/research/rust-boost/notebooks\n",
      "logs.tar\n",
      "run0\n",
      "run1\n",
      "run2\n",
      "run3\n",
      "run4\n",
      "run5\n",
      "run6\n",
      "run7\n",
      "setup.sh\n",
      "~/workspace/research/rust-boost/notebooks\n"
     ]
    }
   ],
   "source": [
    "%%sh\n",
    "\n",
    "pushd ../logs-analysis/local/\n",
    "wget https://www.dropbox.com/s/vs39sim5r1sc9d0/local-logs.tar?dl=0 -O logs.tar 2> /dev/null\n",
    "tar -xf logs.tar\n",
    "ls\n",
    "popd"
   ]
  },
  {
   "cell_type": "markdown",
   "metadata": {},
   "source": [
    "## Parse data to pandas"
   ]
  },
  {
   "cell_type": "code",
   "execution_count": 1,
   "metadata": {},
   "outputs": [],
   "source": [
    "%matplotlib inline"
   ]
  },
  {
   "cell_type": "code",
   "execution_count": 2,
   "metadata": {},
   "outputs": [],
   "source": [
    "from io import StringIO\n",
    "import csv\n",
    "import numpy as np\n",
    "import pandas as pd\n",
    "\n",
    "import warnings\n",
    "warnings.filterwarnings('ignore')"
   ]
  },
  {
   "cell_type": "code",
   "execution_count": 3,
   "metadata": {},
   "outputs": [],
   "source": [
    "def create_dataframe(csv_string, col_names):\n",
    "    return pd.read_csv(StringIO(csv_string), sep=\",(?![^{]*\\})\", quoting=csv.QUOTE_ALL,\n",
    "                       names=col_names, header=None)\n",
    "\n",
    "\n",
    "def filter_logs(csv_file, keyword):\n",
    "    with open(csv_file) as f:\n",
    "        return ''.join([line for line in f if keyword in line]).strip()\n",
    "\n",
    "\n",
    "def get_new_tree_info(log_file):\n",
    "    logs = filter_logs(log_file, \"new-tree-info\")\n",
    "\n",
    "    # Wrap tree in quotation marks\n",
    "    parsed = []\n",
    "    for line in logs.split('\\n'):\n",
    "        line = line.split(',', 7)\n",
    "        line[-1] = '\"{}\"'.format(line[-1])\n",
    "        parsed.append(', '.join(line))\n",
    "    logs = '\\n'.join(parsed)\n",
    "\n",
    "    cols = [\"level\", \"time\", \"module\", \"log-type\",\n",
    "            \"tree-id\", \"num-scanned\", \"gamma\", \"tree\"]\n",
    "    return create_dataframe(logs, cols)\n",
    "\n",
    "\n",
    "def get_performance(log_file):\n",
    "    logs0 = filter_logs(log_file, \"global_speed\")\n",
    "    logs1 = filter_logs(log_file, \"learner_spped\")\n",
    "    # logs = filter_logs(log_file, \"boosting_speed\")\n",
    "\n",
    "    parsed = []\n",
    "    for line0, line1 in zip(logs0.split('\\n'), logs1.split('\\n')):\n",
    "        line = line0 + ', ' + ', '.join(line1.rsplit(',', 3)[-3:])\n",
    "        parsed.append(line)\n",
    "    logs = '\\n'.join(parsed)\n",
    "\n",
    "    cols = [\"level\", \"time\", \"module\", \"log-type\",\n",
    "            \"overall-duration\", \"overall-count\", \"overall-speed\",\n",
    "            \"learner-duration\", \"learner-count\", \"learner-speed\"]\n",
    "    return create_dataframe(logs, cols)\n",
    "\n",
    "\n",
    "def get_true_z(log_file):\n",
    "    logs = filter_logs(log_file, \"validate-only\")\n",
    "\n",
    "    cols = [\"level\", \"time\", \"module\", \"log-type\",\n",
    "            \"tree-id\", \"true-z\", \"auprc\"]\n",
    "    return create_dataframe(logs, cols)"
   ]
  },
  {
   "cell_type": "code",
   "execution_count": 4,
   "metadata": {
    "scrolled": true
   },
   "outputs": [],
   "source": [
    "trees = []\n",
    "speed = []\n",
    "true_z = []\n",
    "\n",
    "range_size = [564, 464, 364, 264, 164, 64, 44, 24]\n",
    "for i in range(8):\n",
    "    _trees = get_new_tree_info(\"../logs-analysis/local/run%d/run-%d.log\" % (i, i))\n",
    "    _trees[\"estimated-z\"] = np.exp(-(_trees[\"gamma\"]**2).cumsum())\n",
    "    _trees[\"range\"] = range_size[i]\n",
    "    trees.append(_trees)\n",
    "    _speed = get_performance(\"../logs-analysis/local/run%d/run-%d.log\" % (i, i))\n",
    "    _speed[\"range\"] = range_size[i]\n",
    "    speed.append(_speed)\n",
    "    _true_z = get_true_z(\"../logs-analysis/local/run%d/validate.log\" % i)\n",
    "    _true_z[\"range\"] = range_size[i]\n",
    "    true_z.append(_true_z)\n",
    "\n",
    "trees = pd.concat(trees)\n",
    "speed = pd.concat(speed)\n",
    "true_z = pd.concat(true_z)\n",
    "\n",
    "trees = trees.drop(columns=[\"level\", \"module\", \"log-type\", \"tree\"])\n",
    "true_z = true_z.drop(columns=[\"level\", \"module\", \"log-type\", \"time\"])\n",
    "speed = speed.drop(columns=[\"level\", \"module\", \"log-type\"])"
   ]
  },
  {
   "cell_type": "code",
   "execution_count": null,
   "metadata": {},
   "outputs": [],
   "source": [
    "tree_info = trees.merge(true_z, on=[\"tree-id\", \"range\"], how=\"outer\") \\\n",
    "                 .sort_values(by=['range', 'tree-id'])\n",
    "tree_info.head()"
   ]
  },
  {
   "cell_type": "code",
   "execution_count": null,
   "metadata": {},
   "outputs": [],
   "source": [
    "tree_info.fillna(method=\"pad\").to_pickle(\"tree_info_local.pkl\")"
   ]
  },
  {
   "cell_type": "code",
   "execution_count": null,
   "metadata": {},
   "outputs": [],
   "source": [
    "tree_info_by_id = tree_info.set_index(\"tree-id\")\n",
    "tree_info_by_time = tree_info.set_index(\"time\")"
   ]
  },
  {
   "cell_type": "code",
   "execution_count": null,
   "metadata": {
    "scrolled": false
   },
   "outputs": [],
   "source": [
    "tree_info_by_id[tree_info_by_id[\"range\"] == 564] \\\n",
    "    .drop(columns=[\"range\", \"time\"]).fillna(method=\"pad\").plot(\n",
    "        subplots=True, figsize=(10, 18), grid=True,\n",
    "        title=[\n",
    "            \"Numbers of examples scanned before early stop (X=iteration)\",\n",
    "            \"Advantage of decision stumps (X=iteration)\",\n",
    "            \"Estimations of Z-scores (X=iteration)\",\n",
    "            \"True Z-scores (X=iteration)\",\n",
    "            \"Area under Precision-Recall (X=iteration)\"\n",
    "        ]\n",
    "    );"
   ]
  },
  {
   "cell_type": "code",
   "execution_count": null,
   "metadata": {},
   "outputs": [],
   "source": [
    "tree_info_by_time[tree_info_by_time[\"range\"] == 564] \\\n",
    "    .drop(columns=[\"range\"]).fillna(method=\"pad\").plot(\n",
    "        subplots=True, figsize=(10, 18), grid=True,\n",
    "        title=[\n",
    "            \"Numbers of weak learners added to the ensemble (X=clock time)\",\n",
    "            \"Number of examples scanned (X=clock time)\",\n",
    "            \"Advantage of decision stumps (X=clock time)\",\n",
    "            \"Estimations of Z-scores (X=clock time)\",\n",
    "            \"True Z-scores (X=clock time)\",\n",
    "            \"Area under Precision-Recall (X=clock time)\"\n",
    "        ]\n",
    "    );"
   ]
  },
  {
   "cell_type": "code",
   "execution_count": null,
   "metadata": {},
   "outputs": [],
   "source": []
  },
  {
   "cell_type": "code",
   "execution_count": null,
   "metadata": {},
   "outputs": [],
   "source": [
    "speed = speed.drop(\n",
    "    columns=[\"overall-speed\", \"learner-speed\"]\n",
    ")\n",
    "speed.head()"
   ]
  },
  {
   "cell_type": "markdown",
   "metadata": {},
   "source": [
    "# Cost of resampling\n",
    "\n",
    "In the following plot, we can see two measures of the number of examples scanned as a function of the clock time:\n",
    "\n",
    "1. `overall-count`: the total number of examples read from disk, which is the sum of the numbers of\n",
    "examples scanned for the purpose of resampling and for the purpose of learning the weak rule,\n",
    "2. `learner-count`: the number of examples read for the purpose of finding the new weak rule.\n",
    "\n",
    "The difference bewteen `overall-count` and `learner-count` is the number of examples scanned for\n",
    "re-sampling. In this version of the program we don't have the stratified sampling implemented,\n",
    "so it takes a full scan of the entire training data set to generate a new sample.\n",
    "\n",
    "As it shows in the plot, re-sampling consumes examples at a faster rate than finding a new weak rule,\n",
    "but still takes a significant amount of time.\n",
    "\n",
    "It is strange that the rate at which the learner consume examples to find new weak rules is not constant. I need to look into it."
   ]
  },
  {
   "cell_type": "code",
   "execution_count": null,
   "metadata": {},
   "outputs": [],
   "source": [
    "from matplotlib import pyplot as plt"
   ]
  },
  {
   "cell_type": "code",
   "execution_count": null,
   "metadata": {
    "scrolled": false
   },
   "outputs": [],
   "source": [
    "plt.figure(figsize=(10, 10))\n",
    "ax1 = plt.subplot(211)\n",
    "\n",
    "ranges = sorted(speed[\"range\"].unique(), reverse=True)\n",
    "# .drop(columns=[\"overall-duration\", \"learner-duration\"])\n",
    "speed[speed[\"range\"] == ranges[0]].plot(\n",
    "    x=\"time\", y=\"overall-count\",\n",
    "    ax=ax1\n",
    ")\n",
    "speed[speed[\"range\"] == ranges[0]].plot(\n",
    "    x=\"time\", y=\"learner-count\",\n",
    "    grid=True,\n",
    "    title = \"Overall number of examples scanned and \\n the number of examples \"\n",
    "            \"used for finding new weak rule\",\n",
    "    ax=ax1\n",
    ")\n",
    "ax1.set_ylabel(\"Number of examples scanned\");\n",
    "\n",
    "# plt.figure(figsize=(10, 6))\n",
    "ax2 = plt.subplot(212, sharex=ax1)\n",
    "tree_info_by_time[tree_info_by_time[\"range\"] == 564] \\\n",
    "    .drop(columns=[\"range\"]).fillna(method=\"pad\")[\"tree-id\"].plot(\n",
    "        grid=True, ax=ax2\n",
    "    )\n",
    "ax2.set_ylabel(\"Number of weak rules discovered\");"
   ]
  },
  {
   "cell_type": "code",
   "execution_count": null,
   "metadata": {},
   "outputs": [],
   "source": []
  },
  {
   "cell_type": "markdown",
   "metadata": {},
   "source": [
    "# Reading speed as a function of feature sizes"
   ]
  },
  {
   "cell_type": "markdown",
   "metadata": {},
   "source": [
    "Following plots show the rates at which the algorithm consumes examples for different feature sizes. The purpose is showing that when the feature size is small enough to fit in the CPU caches, there should be a jump in the performance measured by the numbers of examples being consumed.\n",
    "\n",
    "From the plot, it is possible that the input size is optimized for CPU caches when the feature size is 64 (see the gap between the line denoting feature size being 164 and the line denoting feature size being 64)."
   ]
  },
  {
   "cell_type": "code",
   "execution_count": 12,
   "metadata": {
    "scrolled": false
   },
   "outputs": [
    {
     "data": {
      "image/png": "[encoded data removed]",
      "text/plain": [
       "<Figure size 720x432 with 1 Axes>"
      ]
     },
     "metadata": {},
     "output_type": "display_data"
    },
    {
     "data": {
      "image/png": "[encoded data removed]",
      "text/plain": [
       "<Figure size 720x432 with 1 Axes>"
      ]
     },
     "metadata": {},
     "output_type": "display_data"
    }
   ],
   "source": [
    "def plot_different_feature_size(keyword):\n",
    "    ranges = sorted(speed[\"range\"].unique(), reverse=True)\n",
    "    overall = pd.concat([\n",
    "        speed[speed[\"range\"] == ranges[0]][\"time\"] - \\\n",
    "            speed[speed[\"range\"] == ranges[0]][\"time\"].iloc[0],\n",
    "        speed[speed[\"range\"] == ranges[0]][keyword]\n",
    "    ], axis=1)\n",
    "    ax = overall.plot(\n",
    "        x=\"time\", y=keyword, label=\"size=564\",\n",
    "        figsize=(10, 6), grid=True\n",
    "    )\n",
    "    for k in ranges[1:]:\n",
    "        overall = pd.concat([\n",
    "            speed[speed[\"range\"] == k][\"time\"] - \\\n",
    "                speed[speed[\"range\"] == k][\"time\"].iloc[0],\n",
    "            speed[speed[\"range\"] == k][keyword]\n",
    "        ], axis=1)\n",
    "        overall.plot(\n",
    "            x=\"time\", y=keyword, label=\"size=%d\" % k,\n",
    "            ax=ax, grid=True\n",
    "        )\n",
    "    ax.set_xlim(0, 10)\n",
    "    ax.set_ylim(0, 0.1e8)\n",
    "    ax.set_ylabel(\"Number of examples scanned\");\n",
    "\n",
    "\n",
    "plot_different_feature_size(\"overall-count\")\n",
    "plot_different_feature_size(\"learner-count\")"
   ]
  },
  {
   "cell_type": "code",
   "execution_count": 20,
   "metadata": {},
   "outputs": [
    {
     "data": {
      "text/html": [
       "<div>\n",
       "<style scoped>\n",
       "    .dataframe tbody tr th:only-of-type {\n",
       "        vertical-align: middle;\n",
       "    }\n",
       "\n",
       "    .dataframe tbody tr th {\n",
       "        vertical-align: top;\n",
       "    }\n",
       "\n",
       "    .dataframe thead th {\n",
       "        text-align: right;\n",
       "    }\n",
       "</style>\n",
       "<table border=\"1\" class=\"dataframe\">\n",
       "  <thead>\n",
       "    <tr style=\"text-align: right;\">\n",
       "      <th></th>\n",
       "      <th>time</th>\n",
       "      <th>overall-duration</th>\n",
       "      <th>overall-count</th>\n",
       "      <th>overall-speed</th>\n",
       "      <th>learner-duration</th>\n",
       "      <th>learner-count</th>\n",
       "      <th>learner-speed</th>\n",
       "      <th>range</th>\n",
       "    </tr>\n",
       "  </thead>\n",
       "  <tbody>\n",
       "    <tr>\n",
       "      <th>0</th>\n",
       "      <td>497240.656864</td>\n",
       "      <td>10.001000</td>\n",
       "      <td>1286000</td>\n",
       "      <td>128587.13</td>\n",
       "      <td>7.732</td>\n",
       "      <td>1286000</td>\n",
       "      <td>166322</td>\n",
       "      <td>564</td>\n",
       "    </tr>\n",
       "    <tr>\n",
       "      <th>0</th>\n",
       "      <td>498310.038310</td>\n",
       "      <td>10.004001</td>\n",
       "      <td>1523000</td>\n",
       "      <td>152239.10</td>\n",
       "      <td>7.616</td>\n",
       "      <td>1523000</td>\n",
       "      <td>199974</td>\n",
       "      <td>464</td>\n",
       "    </tr>\n",
       "    <tr>\n",
       "      <th>0</th>\n",
       "      <td>499568.189078</td>\n",
       "      <td>10.004001</td>\n",
       "      <td>1861000</td>\n",
       "      <td>186025.58</td>\n",
       "      <td>7.444</td>\n",
       "      <td>1861000</td>\n",
       "      <td>250000</td>\n",
       "      <td>364</td>\n",
       "    </tr>\n",
       "    <tr>\n",
       "      <th>0</th>\n",
       "      <td>500946.553989</td>\n",
       "      <td>10.000000</td>\n",
       "      <td>2378000</td>\n",
       "      <td>237800.00</td>\n",
       "      <td>7.129</td>\n",
       "      <td>2378000</td>\n",
       "      <td>333567</td>\n",
       "      <td>264</td>\n",
       "    </tr>\n",
       "    <tr>\n",
       "      <th>0</th>\n",
       "      <td>502459.649761</td>\n",
       "      <td>10.000000</td>\n",
       "      <td>1861000</td>\n",
       "      <td>186100.00</td>\n",
       "      <td>2.539</td>\n",
       "      <td>1861000</td>\n",
       "      <td>732966</td>\n",
       "      <td>164</td>\n",
       "    </tr>\n",
       "    <tr>\n",
       "      <th>0</th>\n",
       "      <td>503999.787549</td>\n",
       "      <td>10.000000</td>\n",
       "      <td>3073938</td>\n",
       "      <td>307393.80</td>\n",
       "      <td>0.010</td>\n",
       "      <td>3073938</td>\n",
       "      <td>307393800</td>\n",
       "      <td>64</td>\n",
       "    </tr>\n",
       "    <tr>\n",
       "      <th>0</th>\n",
       "      <td>505385.945396</td>\n",
       "      <td>10.000000</td>\n",
       "      <td>6161878</td>\n",
       "      <td>616187.80</td>\n",
       "      <td>0.000</td>\n",
       "      <td>6161878</td>\n",
       "      <td>inf</td>\n",
       "      <td>44</td>\n",
       "    </tr>\n",
       "    <tr>\n",
       "      <th>0</th>\n",
       "      <td>507047.672693</td>\n",
       "      <td>10.000000</td>\n",
       "      <td>6645876</td>\n",
       "      <td>664587.60</td>\n",
       "      <td>0.000</td>\n",
       "      <td>6645876</td>\n",
       "      <td>inf</td>\n",
       "      <td>24</td>\n",
       "    </tr>\n",
       "  </tbody>\n",
       "</table>\n",
       "</div>"
      ],
      "text/plain": [
       "            time  overall-duration  overall-count  overall-speed  \\\n",
       "0  497240.656864         10.001000        1286000      128587.13   \n",
       "0  498310.038310         10.004001        1523000      152239.10   \n",
       "0  499568.189078         10.004001        1861000      186025.58   \n",
       "0  500946.553989         10.000000        2378000      237800.00   \n",
       "0  502459.649761         10.000000        1861000      186100.00   \n",
       "0  503999.787549         10.000000        3073938      307393.80   \n",
       "0  505385.945396         10.000000        6161878      616187.80   \n",
       "0  507047.672693         10.000000        6645876      664587.60   \n",
       "\n",
       "   learner-duration  learner-count learner-speed  range  \n",
       "0             7.732        1286000        166322    564  \n",
       "0             7.616        1523000        199974    464  \n",
       "0             7.444        1861000        250000    364  \n",
       "0             7.129        2378000        333567    264  \n",
       "0             2.539        1861000        732966    164  \n",
       "0             0.010        3073938     307393800     64  \n",
       "0             0.000        6161878           inf     44  \n",
       "0             0.000        6645876           inf     24  "
      ]
     },
     "execution_count": 20,
     "metadata": {},
     "output_type": "execute_result"
    }
   ],
   "source": [
    "speed[speed[\"overall-duration\"] <= 12]"
   ]
  },
  {
   "cell_type": "code",
   "execution_count": 18,
   "metadata": {},
   "outputs": [
    {
     "data": {
      "text/html": [
       "<div>\n",
       "<style scoped>\n",
       "    .dataframe tbody tr th:only-of-type {\n",
       "        vertical-align: middle;\n",
       "    }\n",
       "\n",
       "    .dataframe tbody tr th {\n",
       "        vertical-align: top;\n",
       "    }\n",
       "\n",
       "    .dataframe thead th {\n",
       "        text-align: right;\n",
       "    }\n",
       "</style>\n",
       "<table border=\"1\" class=\"dataframe\">\n",
       "  <thead>\n",
       "    <tr style=\"text-align: right;\">\n",
       "      <th></th>\n",
       "      <th>time</th>\n",
       "      <th>overall-duration</th>\n",
       "      <th>overall-count</th>\n",
       "      <th>overall-speed</th>\n",
       "      <th>learner-duration</th>\n",
       "      <th>learner-count</th>\n",
       "      <th>learner-speed</th>\n",
       "      <th>range</th>\n",
       "    </tr>\n",
       "  </thead>\n",
       "  <tbody>\n",
       "    <tr>\n",
       "      <th>0</th>\n",
       "      <td>0</td>\n",
       "      <td>0</td>\n",
       "      <td>0</td>\n",
       "      <td>0</td>\n",
       "      <td>0</td>\n",
       "      <td>0</td>\n",
       "      <td>0</td>\n",
       "      <td>0</td>\n",
       "    </tr>\n",
       "    <tr>\n",
       "      <th>1</th>\n",
       "      <td>10.0014</td>\n",
       "      <td>10.001</td>\n",
       "      <td>1283938</td>\n",
       "      <td>-103.08</td>\n",
       "      <td>7.74</td>\n",
       "      <td>1283938</td>\n",
       "      <td>-219.27</td>\n",
       "      <td>0</td>\n",
       "    </tr>\n",
       "    <tr>\n",
       "      <th>2</th>\n",
       "      <td>20.0076</td>\n",
       "      <td>20.008</td>\n",
       "      <td>2575938</td>\n",
       "      <td>105.53</td>\n",
       "      <td>15.493</td>\n",
       "      <td>2575938</td>\n",
       "      <td>-38.11</td>\n",
       "      <td>0</td>\n",
       "    </tr>\n",
       "    <tr>\n",
       "      <th>3</th>\n",
       "      <td>30.0079</td>\n",
       "      <td>30.008</td>\n",
       "      <td>3858876</td>\n",
       "      <td>5.83</td>\n",
       "      <td>23.191</td>\n",
       "      <td>3858876</td>\n",
       "      <td>55.21</td>\n",
       "      <td>0</td>\n",
       "    </tr>\n",
       "    <tr>\n",
       "      <th>4</th>\n",
       "      <td>40.0144</td>\n",
       "      <td>40.014</td>\n",
       "      <td>5140876</td>\n",
       "      <td>-88.17</td>\n",
       "      <td>30.884</td>\n",
       "      <td>5140876</td>\n",
       "      <td>108.62</td>\n",
       "      <td>0</td>\n",
       "    </tr>\n",
       "  </tbody>\n",
       "</table>\n",
       "</div>"
      ],
      "text/plain": [
       "      time overall-duration overall-count overall-speed learner-duration  \\\n",
       "0        0                0             0             0                0   \n",
       "1  10.0014           10.001       1283938       -103.08             7.74   \n",
       "2  20.0076           20.008       2575938        105.53           15.493   \n",
       "3  30.0079           30.008       3858876          5.83           23.191   \n",
       "4  40.0144           40.014       5140876        -88.17           30.884   \n",
       "\n",
       "  learner-count learner-speed range  \n",
       "0             0             0     0  \n",
       "1       1283938       -219.27     0  \n",
       "2       2575938        -38.11     0  \n",
       "3       3858876         55.21     0  \n",
       "4       5140876        108.62     0  "
      ]
     },
     "execution_count": 18,
     "metadata": {},
     "output_type": "execute_result"
    }
   ],
   "source": [
    "speed_"
   ]
  },
  {
   "cell_type": "code",
   "execution_count": null,
   "metadata": {},
   "outputs": [],
   "source": []
  }
 ],
 "metadata": {
  "kernelspec": {
   "display_name": "Python 3",
   "language": "python",
   "name": "python3"
  },
  "language_info": {
   "codemirror_mode": {
    "name": "ipython",
    "version": 3
   },
   "file_extension": ".py",
   "mimetype": "text/x-python",
   "name": "python",
   "nbconvert_exporter": "python",
   "pygments_lexer": "ipython3",
   "version": "3.6.4"
  }
 },
 "nbformat": 4,
 "nbformat_minor": 2
}
